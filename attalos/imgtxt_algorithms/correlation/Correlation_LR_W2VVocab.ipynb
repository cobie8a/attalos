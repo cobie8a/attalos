{
 "cells": [
  {
   "cell_type": "code",
   "execution_count": 1,
   "metadata": {
    "collapsed": true
   },
   "outputs": [],
   "source": [
    "import numpy as np\n",
    "import matplotlib.pylab as plt\n",
    "import sys\n",
    "import word2vec\n",
    "import os"
   ]
  },
  {
   "cell_type": "code",
   "execution_count": 2,
   "metadata": {
    "collapsed": true
   },
   "outputs": [],
   "source": [
    "from attalos.imgtxt_algorithms.correlation.correlation import *"
   ]
  },
  {
   "cell_type": "code",
   "execution_count": 3,
   "metadata": {
    "collapsed": true
   },
   "outputs": [],
   "source": [
    "wordvecs_dir = os.environ[\"WORDVECS_DIR\"]\n",
    "dataset_dir = os.environ[\"DATASET_DIR\"]\n",
    "octave_eval_dir = os.environ[\"OCTAVE_EVAL_DIR\"]"
   ]
  },
  {
   "cell_type": "code",
   "execution_count": 4,
   "metadata": {
    "collapsed": false
   },
   "outputs": [],
   "source": [
    "w2v_vector_file = os.path.join(wordvecs_dir, \"text9Bvin.bin\")\n",
    "w2v_model = word2vec.load(w2v_vector_file)"
   ]
  },
  {
   "cell_type": "code",
   "execution_count": 5,
   "metadata": {
    "collapsed": true
   },
   "outputs": [],
   "source": [
    "from oct2py import octave\n",
    "octave.addpath(octave_eval_dir)"
   ]
  },
  {
   "cell_type": "code",
   "execution_count": 6,
   "metadata": {
    "collapsed": false
   },
   "outputs": [],
   "source": [
    "%matplotlib inline"
   ]
  },
  {
   "cell_type": "markdown",
   "metadata": {},
   "source": [
    "---"
   ]
  },
  {
   "cell_type": "markdown",
   "metadata": {},
   "source": [
    "# Load data"
   ]
  },
  {
   "cell_type": "code",
   "execution_count": 7,
   "metadata": {
    "collapsed": false
   },
   "outputs": [],
   "source": [
    "feature_dir = os.path.join(dataset_dir, \"alexnet-feats\")\n",
    "data = np.load(os.path.join(feature_dir, \"iaprtc_alexfc7.npz\"))\n",
    "with open(os.path.join(feature_dir, \"iaprtc_dictionary.txt\")) as dictionary:\n",
    "    D = dictionary.read().splitlines()\n",
    "with open(os.path.join(feature_dir, \"iaprtc_trainlist.txt\")) as trainlist:\n",
    "    train_ims = [ im.split('/')[-1] for im in trainlist.read().splitlines() ]\n",
    "    train_ims_full = [ im for im in trainlist.read().splitlines() ]\n",
    "with open(os.path.join(feature_dir, \"iaprtc_testlist.txt\")) as testlist:\n",
    "    test_ims_full = [ im for im in testlist.read().splitlines() ]\n",
    "\n",
    "xTr = data['xTr'].T # xtrain\n",
    "yTr = data['yTr'].T # ytrain\n",
    "xTe = data['xTe'].T # xtest\n",
    "yTe = data['yTe'].T # ytest"
   ]
  },
  {
   "cell_type": "code",
   "execution_count": 8,
   "metadata": {
    "collapsed": false,
    "scrolled": true
   },
   "outputs": [
    {
     "name": "stdout",
     "output_type": "stream",
     "text": [
      "(17665, 4096)\n",
      "(17665, 291)\n",
      "(1962, 4096)\n",
      "(1962, 291)\n"
     ]
    }
   ],
   "source": [
    "print xTr.shape\n",
    "print yTr.shape\n",
    "print xTe.shape\n",
    "print yTe.shape"
   ]
  },
  {
   "cell_type": "markdown",
   "metadata": {},
   "source": [
    "---"
   ]
  },
  {
   "cell_type": "markdown",
   "metadata": {},
   "source": [
    "# Filter out labels not in W2V vocabulary"
   ]
  },
  {
   "cell_type": "code",
   "execution_count": 9,
   "metadata": {
    "collapsed": false
   },
   "outputs": [],
   "source": [
    "to_remove = get_invalid_labels(D, w2v_model.vocab)"
   ]
  },
  {
   "cell_type": "code",
   "execution_count": 10,
   "metadata": {
    "collapsed": true
   },
   "outputs": [],
   "source": [
    "D = filter(lambda word: word not in to_remove.keys(), D)"
   ]
  },
  {
   "cell_type": "code",
   "execution_count": 11,
   "metadata": {
    "collapsed": false
   },
   "outputs": [],
   "source": [
    "yTr = np.delete(yTr, to_remove.values(), axis=1)"
   ]
  },
  {
   "cell_type": "code",
   "execution_count": 12,
   "metadata": {
    "collapsed": true
   },
   "outputs": [],
   "source": [
    "yTe = np.delete(yTe, to_remove.values(), axis=1)"
   ]
  },
  {
   "cell_type": "code",
   "execution_count": 13,
   "metadata": {
    "collapsed": false
   },
   "outputs": [
    {
     "name": "stdout",
     "output_type": "stream",
     "text": [
      "(17665, 288)\n",
      "(1962, 288)\n"
     ]
    }
   ],
   "source": [
    "print yTr.shape\n",
    "print yTe.shape"
   ]
  },
  {
   "cell_type": "code",
   "execution_count": 14,
   "metadata": {
    "collapsed": true
   },
   "outputs": [],
   "source": [
    "orig_yTr = yTr\n",
    "orig_yTe = yTe"
   ]
  },
  {
   "cell_type": "markdown",
   "metadata": {},
   "source": [
    "---"
   ]
  },
  {
   "cell_type": "markdown",
   "metadata": {},
   "source": [
    "# Construct label-to-w2v_vocab correlation matrix"
   ]
  },
  {
   "cell_type": "code",
   "execution_count": 15,
   "metadata": {
    "collapsed": true
   },
   "outputs": [],
   "source": [
    "W_L = construct_W(w2v_model, D)"
   ]
  },
  {
   "cell_type": "code",
   "execution_count": 16,
   "metadata": {
    "collapsed": false
   },
   "outputs": [],
   "source": [
    "W_V = np.load(os.path.join(wordvecs_dir, \"w_v_16.npy\")) #construct_W(w2v_model, w2v_model.vocab)\n",
    "#np.save(os.path.join(wordvecs_dir, \"w_v_16.npy\"), W_V)"
   ]
  },
  {
   "cell_type": "markdown",
   "metadata": {},
   "source": [
    "---"
   ]
  },
  {
   "cell_type": "markdown",
   "metadata": {},
   "source": [
    "# Expand vocabulary"
   ]
  },
  {
   "cell_type": "code",
   "execution_count": 17,
   "metadata": {
    "collapsed": false
   },
   "outputs": [],
   "source": [
    "expansion_arr = np.load(os.path.join(wordvecs_dir, \"expansion_arr.npy\")) #np.dot(W_V.T, W_L)\n",
    "#np.save(os.path.join(wordvecs_dir, \"expansion_arr.npy\"), expansion_arr)"
   ]
  },
  {
   "cell_type": "code",
   "execution_count": 18,
   "metadata": {
    "collapsed": false
   },
   "outputs": [
    {
     "ename": "MemoryError",
     "evalue": "",
     "output_type": "error",
     "traceback": [
      "\u001b[1;31m---------------------------------------------------------------------------\u001b[0m",
      "\u001b[1;31mMemoryError\u001b[0m                               Traceback (most recent call last)",
      "\u001b[1;32m<ipython-input-18-02ca2f71031b>\u001b[0m in \u001b[0;36m<module>\u001b[1;34m()\u001b[0m\n\u001b[1;32m----> 1\u001b[1;33m \u001b[0mexpanded\u001b[0m \u001b[1;33m=\u001b[0m \u001b[0mnp\u001b[0m\u001b[1;33m.\u001b[0m\u001b[0mdot\u001b[0m\u001b[1;33m(\u001b[0m\u001b[0myTr\u001b[0m\u001b[1;33m,\u001b[0m \u001b[0mnonlinearity\u001b[0m\u001b[1;33m(\u001b[0m\u001b[0mexpansion_arr\u001b[0m\u001b[1;33m)\u001b[0m\u001b[1;33m.\u001b[0m\u001b[0mT\u001b[0m\u001b[1;33m)\u001b[0m \u001b[1;31m#np.load(os.path.join(wordvecs_dir, \"expanded.npy\"))\u001b[0m\u001b[1;33m\u001b[0m\u001b[0m\n\u001b[0m\u001b[0;32m      2\u001b[0m \u001b[1;31m#np.save(os.path.join(wordvecs_dir, \"expanded.npy\"), expanded)\u001b[0m\u001b[1;33m\u001b[0m\u001b[1;33m\u001b[0m\u001b[0m\n",
      "\u001b[1;31mMemoryError\u001b[0m: "
     ]
    }
   ],
   "source": [
    "expanded = np.dot(yTr, nonlinearity(expansion_arr).T) #np.load(os.path.join(wordvecs_dir, \"expanded.npy\"))\n",
    "#np.save(os.path.join(wordvecs_dir, \"expanded.npy\"), expanded)"
   ]
  },
  {
   "cell_type": "code",
   "execution_count": null,
   "metadata": {
    "collapsed": false,
    "scrolled": true
   },
   "outputs": [],
   "source": [
    "# Randomly select an image\n",
    "i=np.random.randint(0, yTr.shape[1])\n",
    "\n",
    "# Run example\n",
    "imname = os.path.join(dataset_dir, \"images\", \"images\", \"%s.jpg\" % train_ims_full[i])\n",
    "print \"Looking at the \"+str(i)+\"th image: \"+imname\n",
    "im=plt.imread(imname)\n",
    "\n",
    "# Prediction\n",
    "#threshold = np.percentile(yHat[i], 99)\n",
    "#top_idxs = [idx for idx in yHat[i].argsort()[::-1] if yHat[i][idx] > threshold]\n",
    "#ypwords = [d_words[idx] for idx in top_idxs]\n",
    "ypwords = [w2v_model.vocab[idx] for idx in expanded[i].argsort()[::-1][:10]]\n",
    "#ypwords = [D[j] for j in yHat[i].argsort()[::-1] [ 0:(yHat[i]>0.2).sum() ] ]\n",
    "# Truth\n",
    "ytwords = [D[idx] for idx in np.nonzero(orig_yTr[i])[0]]\n",
    "#ytwords = [D[j] for j in np.where(yTe[i] > 0.5)[0] ]\n",
    "plt.imshow(im)\n",
    "\n",
    "print 'Predicted: '+ ', '.join(ypwords)\n",
    "print 'Truth:     '+ ', '.join(ytwords)\n",
    "\n",
    "plt.figure()"
   ]
  },
  {
   "cell_type": "code",
   "execution_count": null,
   "metadata": {
    "collapsed": true
   },
   "outputs": [],
   "source": []
  }
 ],
 "metadata": {
  "kernelspec": {
   "display_name": "Attalos (Py2.7)",
   "language": "python",
   "name": "attalos"
  },
  "language_info": {
   "codemirror_mode": {
    "name": "ipython",
    "version": 2
   },
   "file_extension": ".py",
   "mimetype": "text/x-python",
   "name": "python",
   "nbconvert_exporter": "python",
   "pygments_lexer": "ipython2",
   "version": "2.7.11"
  }
 },
 "nbformat": 4,
 "nbformat_minor": 0
}
