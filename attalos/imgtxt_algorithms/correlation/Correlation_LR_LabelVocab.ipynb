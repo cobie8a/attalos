{
 "cells": [
  {
   "cell_type": "code",
   "execution_count": null,
   "metadata": {
    "collapsed": false
   },
   "outputs": [],
   "source": [
    "import numpy as np\n",
    "import matplotlib.pylab as plt\n",
    "import sys\n",
    "import word2vec\n",
    "import os"
   ]
  },
  {
   "cell_type": "code",
   "execution_count": null,
   "metadata": {
    "collapsed": false
   },
   "outputs": [],
   "source": [
    "from attalos.imgtxt_algorithms.correlation.correlation import *"
   ]
  },
  {
   "cell_type": "code",
   "execution_count": null,
   "metadata": {
    "collapsed": false
   },
   "outputs": [],
   "source": [
    "wordvecs_dir = os.environ[\"WORDVECS_DIR\"]\n",
    "dataset_dir = os.environ[\"DATASET_DIR\"]\n",
    "octave_eval_dir = os.environ[\"OCTAVE_EVAL_DIR\"]"
   ]
  },
  {
   "cell_type": "code",
   "execution_count": null,
   "metadata": {
    "collapsed": false
   },
   "outputs": [],
   "source": [
    "w2v_vector_file = os.path.join(wordvecs_dir, \"text9Bvin.bin\")\n",
    "w2v_model = word2vec.load(w2v_vector_file)"
   ]
  },
  {
   "cell_type": "code",
   "execution_count": null,
   "metadata": {
    "collapsed": false
   },
   "outputs": [],
   "source": [
    "len(w2v_model.vocab)"
   ]
  },
  {
   "cell_type": "code",
   "execution_count": null,
   "metadata": {
    "collapsed": false
   },
   "outputs": [],
   "source": [
    "from oct2py import octave\n",
    "octave.addpath(octave_eval_dir)"
   ]
  },
  {
   "cell_type": "code",
   "execution_count": null,
   "metadata": {
    "collapsed": false
   },
   "outputs": [],
   "source": [
    "%matplotlib inline"
   ]
  },
  {
   "cell_type": "markdown",
   "metadata": {},
   "source": [
    "---"
   ]
  },
  {
   "cell_type": "markdown",
   "metadata": {},
   "source": [
    "# Load data"
   ]
  },
  {
   "cell_type": "code",
   "execution_count": null,
   "metadata": {
    "collapsed": false
   },
   "outputs": [],
   "source": [
    "feature_dir = os.path.join(dataset_dir, \"alexnet-feats\")\n",
    "data = np.load(os.path.join(feature_dir, \"iaprtc_alexfc7.npz\"))\n",
    "with open(os.path.join(feature_dir, \"iaprtc_dictionary.txt\")) as dictionary:\n",
    "    D = dictionary.read().splitlines()\n",
    "with open(os.path.join(feature_dir, \"iaprtc_trainlist.txt\")) as trainlist:\n",
    "    train_ims = [ im.split('/')[-1] for im in trainlist.read().splitlines() ]\n",
    "    train_ims_full = [ im for im in trainlist.read().splitlines() ]\n",
    "with open(os.path.join(feature_dir, \"iaprtc_testlist.txt\")) as testlist:\n",
    "    test_ims_full = [ im for im in testlist.read().splitlines() ]\n",
    "\n",
    "xTr = data['xTr'].T # xtrain\n",
    "yTr = data['yTr'].T # ytrain\n",
    "xTe = data['xTe'].T # xtest\n",
    "yTe = data['yTe'].T # ytest"
   ]
  },
  {
   "cell_type": "code",
   "execution_count": null,
   "metadata": {
    "collapsed": false,
    "scrolled": true
   },
   "outputs": [],
   "source": [
    "print xTr.shape\n",
    "print yTr.shape\n",
    "print xTe.shape\n",
    "print yTe.shape"
   ]
  },
  {
   "cell_type": "markdown",
   "metadata": {},
   "source": [
    "---"
   ]
  },
  {
   "cell_type": "markdown",
   "metadata": {},
   "source": [
    "# Filter out labels not in W2V vocabulary"
   ]
  },
  {
   "cell_type": "code",
   "execution_count": null,
   "metadata": {
    "collapsed": false
   },
   "outputs": [],
   "source": [
    "to_remove = get_invalid_labels(D, w2v_model.vocab)"
   ]
  },
  {
   "cell_type": "code",
   "execution_count": null,
   "metadata": {
    "collapsed": true
   },
   "outputs": [],
   "source": [
    "D = filter(lambda word: word not in to_remove.keys(), D)"
   ]
  },
  {
   "cell_type": "code",
   "execution_count": null,
   "metadata": {
    "collapsed": false
   },
   "outputs": [],
   "source": [
    "yTr = np.delete(yTr, to_remove.values(), axis=1)"
   ]
  },
  {
   "cell_type": "code",
   "execution_count": null,
   "metadata": {
    "collapsed": true
   },
   "outputs": [],
   "source": [
    "yTe = np.delete(yTe, to_remove.values(), axis=1)"
   ]
  },
  {
   "cell_type": "code",
   "execution_count": null,
   "metadata": {
    "collapsed": false
   },
   "outputs": [],
   "source": [
    "print yTr.shape\n",
    "print yTe.shape"
   ]
  },
  {
   "cell_type": "code",
   "execution_count": null,
   "metadata": {
    "collapsed": true
   },
   "outputs": [],
   "source": [
    "orig_yTr = yTr\n",
    "orig_yTe = yTe"
   ]
  },
  {
   "cell_type": "markdown",
   "metadata": {},
   "source": [
    "---"
   ]
  },
  {
   "cell_type": "markdown",
   "metadata": {},
   "source": [
    "# Construct correlation matrix"
   ]
  },
  {
   "cell_type": "code",
   "execution_count": null,
   "metadata": {
    "collapsed": false
   },
   "outputs": [],
   "source": [
    "W_L = construct_W(w2v_model, D, dtype=np.float16)"
   ]
  },
  {
   "cell_type": "code",
   "execution_count": null,
   "metadata": {
    "collapsed": false
   },
   "outputs": [],
   "source": [
    "correlation_arr = np.dot(W_L.T, W_L)"
   ]
  },
  {
   "cell_type": "code",
   "execution_count": null,
   "metadata": {
    "collapsed": false
   },
   "outputs": [],
   "source": [
    "correlation_arr.shape"
   ]
  },
  {
   "cell_type": "code",
   "execution_count": null,
   "metadata": {
    "collapsed": false
   },
   "outputs": [],
   "source": [
    "plt.stem(correlation_arr[0])"
   ]
  },
  {
   "cell_type": "code",
   "execution_count": null,
   "metadata": {
    "collapsed": true
   },
   "outputs": [],
   "source": [
    "correlation_arr_normed = correlation_arr / np.linalg.norm(correlation_arr, 1)"
   ]
  },
  {
   "cell_type": "code",
   "execution_count": null,
   "metadata": {
    "collapsed": false,
    "scrolled": true
   },
   "outputs": [],
   "source": [
    "plt.stem(scale(correlation_arr_normed)[0])"
   ]
  },
  {
   "cell_type": "code",
   "execution_count": null,
   "metadata": {
    "collapsed": false
   },
   "outputs": [],
   "source": [
    "correlation_arr_normed_nonlinear = nonlinearity(correlation_arr_normed) #np.power(correlation_arr_normed, 3)"
   ]
  },
  {
   "cell_type": "code",
   "execution_count": null,
   "metadata": {
    "collapsed": false
   },
   "outputs": [],
   "source": [
    "plt.stem(scale(correlation_arr_normed_nonlinear)[0])"
   ]
  },
  {
   "cell_type": "code",
   "execution_count": null,
   "metadata": {
    "collapsed": true
   },
   "outputs": [],
   "source": [
    "final = scale(correlation_arr_normed_nonlinear)"
   ]
  },
  {
   "cell_type": "markdown",
   "metadata": {},
   "source": [
    "---"
   ]
  },
  {
   "cell_type": "markdown",
   "metadata": {},
   "source": [
    "# Transform yTr into correlation space"
   ]
  },
  {
   "cell_type": "code",
   "execution_count": null,
   "metadata": {
    "collapsed": false,
    "scrolled": true
   },
   "outputs": [],
   "source": [
    "yTr = np.dot(orig_yTr, final)"
   ]
  },
  {
   "cell_type": "code",
   "execution_count": null,
   "metadata": {
    "collapsed": false
   },
   "outputs": [],
   "source": [
    "print xTr.shape\n",
    "print yTr.shape\n",
    "print xTe.shape\n",
    "print yTe.shape"
   ]
  },
  {
   "cell_type": "markdown",
   "metadata": {},
   "source": [
    "---"
   ]
  },
  {
   "cell_type": "markdown",
   "metadata": {},
   "source": [
    "# Do linear regression"
   ]
  },
  {
   "cell_type": "code",
   "execution_count": null,
   "metadata": {
    "collapsed": false
   },
   "outputs": [],
   "source": [
    "# sklearn's Linear Regression implementation\n",
    "from sklearn import linear_model\n",
    "n_jobs = -1 # -1 = all CPUs, default = 1\n",
    "linreg_model = linear_model.LinearRegression(n_jobs=n_jobs)\n",
    "linreg_model.fit(xTr, yTr)\n",
    "yHat = linreg_model.predict(xTe)"
   ]
  },
  {
   "cell_type": "code",
   "execution_count": null,
   "metadata": {
    "collapsed": false
   },
   "outputs": [],
   "source": [
    "# Spark MLLib's Linear Regression implementation\n",
    "\"\"\"\n",
    "from pyspark.mllib.regression import LabeledPoint, LinearRegressionWithSGD, LinearRegressionModel\n",
    "from itertools import izip\n",
    "\n",
    "def spark_linear_regression(xTr, yTr, xTe):\n",
    "    for x, y in izip(xTr, yTr):\n",
    "\"\"\""
   ]
  },
  {
   "cell_type": "code",
   "execution_count": null,
   "metadata": {
    "collapsed": false
   },
   "outputs": [],
   "source": [
    "# sklearn Polynomial Regression\n",
    "\"\"\"\n",
    "from sklearn import linear_model\n",
    "from sklearn.preprocessing import PolynomialFeatures\n",
    "poly_degrees = 2\n",
    "poly = PolynomialFeatures(degree=poly_degrees)\n",
    "xTr_poly = poly.fit_transform(xTr)\n",
    "xTe_poly = poly.fit_transform(xTe)\n",
    "n_jobs = -1 # -1 = all CPUs, default = 1\n",
    "linreg_model = linear_model.LinearRegression(n_jobs=n_jobs)\n",
    "linreg_model.fit(xTr, yTr)\n",
    "yHat = linreg_model.predict(xTe)\n",
    "\"\"\""
   ]
  },
  {
   "cell_type": "markdown",
   "metadata": {
    "collapsed": true
   },
   "source": [
    "---"
   ]
  },
  {
   "cell_type": "markdown",
   "metadata": {},
   "source": [
    "# Calculate performance"
   ]
  },
  {
   "cell_type": "code",
   "execution_count": null,
   "metadata": {
    "collapsed": false,
    "scrolled": true
   },
   "outputs": [],
   "source": [
    "[precision, recall, f1score] = octave.evaluate(yTe.T, yHat.T, 5)\n",
    "print precision\n",
    "print recall\n",
    "print f1score"
   ]
  },
  {
   "cell_type": "code",
   "execution_count": null,
   "metadata": {
    "collapsed": false,
    "scrolled": true
   },
   "outputs": [],
   "source": [
    "[precision, recall, f1score] = octave.evaluate(yTe.T, yHat.T, 5)\n",
    "print precision\n",
    "print recall\n",
    "print f1score"
   ]
  },
  {
   "cell_type": "markdown",
   "metadata": {
    "collapsed": true
   },
   "source": [
    "---"
   ]
  },
  {
   "cell_type": "markdown",
   "metadata": {},
   "source": [
    "# Example: Predict labels for an image"
   ]
  },
  {
   "cell_type": "code",
   "execution_count": null,
   "metadata": {
    "collapsed": false
   },
   "outputs": [],
   "source": [
    "# Randomly select an image\n",
    "i=np.random.randint(0, yTe.shape[1])\n",
    "\n",
    "# Run example\n",
    "imname = os.path.join(dataset_dir, \"images\", \"images\", \"%s.jpg\" % test_ims_full[i])\n",
    "print \"Looking at the \"+str(i)+\"th image: \"+imname\n",
    "im=plt.imread(imname)\n",
    "\n",
    "# Prediction\n",
    "#threshold = np.percentile(yHat[i], 99)\n",
    "#top_idxs = [idx for idx in yHat[i].argsort()[::-1] if yHat[i][idx] > threshold]\n",
    "#ypwords = [d_words[idx] for idx in top_idxs]\n",
    "ypwords = [\"%s (%s)\" % (D[idx], yHat[i][idx]) for idx in yHat[i].argsort()[::-1][:5]]\n",
    "#ypwords = [D[j] for j in yHat[i].argsort()[::-1] [ 0:(yHat[i]>0.2).sum() ] ]\n",
    "# Truth\n",
    "ytwords = [D[idx] for idx in np.nonzero(yTe[i])[0]]\n",
    "#ytwords = [D[j] for j in np.where(yTe[i] > 0.5)[0] ]\n",
    "plt.imshow(im)\n",
    "\n",
    "print 'Predicted: '+ ', '.join(ypwords)\n",
    "print 'Truth:     '+ ', '.join(ytwords)\n",
    "\n",
    "plt.figure()"
   ]
  },
  {
   "cell_type": "code",
   "execution_count": null,
   "metadata": {
    "collapsed": false
   },
   "outputs": [],
   "source": [
    "# Randomly select an image\n",
    "i=np.random.randint(0, yTe.shape[1])\n",
    "\n",
    "# Run example\n",
    "imname = os.path.join(dataset_dir, \"images\", \"images\", \"%s.jpg\" % test_ims_full[i])\n",
    "print \"Looking at the \"+str(i)+\"th image: \"+imname\n",
    "im=plt.imread(imname)\n",
    "\n",
    "# Prediction\n",
    "#threshold = np.percentile(yHat[i], 99)\n",
    "#top_idxs = [idx for idx in yHat[i].argsort()[::-1] if yHat[i][idx] > threshold]\n",
    "#ypwords = [d_words[idx] for idx in top_idxs]\n",
    "ypwords = [\"%s (%s)\" % (D[idx], yHat[i][idx]) for idx in yHat[i].argsort()[::-1][:5]]\n",
    "#ypwords = [D[j] for j in yHat[i].argsort()[::-1] [ 0:(yHat[i]>0.2).sum() ] ]\n",
    "# Truth\n",
    "ytwords = [D[idx] for idx in np.nonzero(yTe[i])[0]]\n",
    "#ytwords = [D[j] for j in np.where(yTe[i] > 0.5)[0] ]\n",
    "plt.imshow(im)\n",
    "\n",
    "print 'Predicted: '+ ', '.join(ypwords)\n",
    "print 'Truth:     '+ ', '.join(ytwords)\n",
    "\n",
    "plt.figure()"
   ]
  },
  {
   "cell_type": "markdown",
   "metadata": {
    "collapsed": true
   },
   "source": [
    "---"
   ]
  },
  {
   "cell_type": "markdown",
   "metadata": {},
   "source": [
    "# Expand vocabulary"
   ]
  },
  {
   "cell_type": "code",
   "execution_count": null,
   "metadata": {
    "collapsed": true
   },
   "outputs": [],
   "source": [
    "def nonlinearity2(arr, percentile=99, power=1):\n",
    "    for row in arr:\n",
    "        cutoff = np.percentile(row, percentile)\n",
    "        for idx, val in enumerate(row):\n",
    "            if val < cutoff:\n",
    "                row[idx] = 0\n",
    "    for idx, row in enumerate(arr):\n",
    "        arr[idx] = np.power(row, power)\n",
    "    return arr"
   ]
  },
  {
   "cell_type": "code",
   "execution_count": null,
   "metadata": {
    "collapsed": false
   },
   "outputs": [],
   "source": [
    "W_V = np.load(os.path.join(wordvecs_dir, \"w_v_16.npy\")) #construct_W(w2v_model, w2v_model.vocab, dtype=np.float16)\n",
    "#np.save(os.path.join(wordvecs_dir, \"w_v_16_kylez.npy\"), W_V)"
   ]
  },
  {
   "cell_type": "code",
   "execution_count": null,
   "metadata": {
    "collapsed": true
   },
   "outputs": [],
   "source": [
    "#expansion_arr = nonlinearity2(np.dot(W_V.T, W_L), power=2)\n",
    "#expansion_arr = np.load(os.path.join(wordvecs_dir, \"expansion_arr.npy\"))\n",
    "#np.save(os.path.join(wordvecs_dir, \"expansion_arr.npy\"), expansion_arr)"
   ]
  },
  {
   "cell_type": "code",
   "execution_count": null,
   "metadata": {
    "collapsed": false
   },
   "outputs": [],
   "source": [
    "expanded = np.dot(yTr, nonlinearity2(np.dot(W_V.T, W_L), power=2).T)\n",
    "#expanded = np.load(os.path.join(wordvecs_dir, \"expanded_yHat.npy\"))\n",
    "#np.save(os.path.join(wordvecs_dir, \"expanded_yHat.npy\"), expanded)"
   ]
  },
  {
   "cell_type": "code",
   "execution_count": null,
   "metadata": {
    "collapsed": true
   },
   "outputs": [],
   "source": [
    "expanded.shape"
   ]
  },
  {
   "cell_type": "code",
   "execution_count": null,
   "metadata": {
    "collapsed": false
   },
   "outputs": [],
   "source": [
    "# Randomly select an image\n",
    "i = 102 #np.random.randint(0, yTe.shape[1])\n",
    "\n",
    "# Run example\n",
    "imname = os.path.join(dataset_dir, \"images\", \"images\", \"%s.jpg\" % test_ims_full[i])\n",
    "print \"Looking at the \"+str(i)+\"th image: \"+imname\n",
    "im=plt.imread(imname)\n",
    "\n",
    "# Prediction\n",
    "#threshold = np.percentile(yHat[i], 99)\n",
    "#top_idxs = [idx for idx in yHat[i].argsort()[::-1] if yHat[i][idx] > threshold]\n",
    "#ypwords = [d_words[idx] for idx in top_idxs]\n",
    "ypwords = [w2v_model.vocab[idx] for idx in expanded[i].argsort()[::-1][:50]]\n",
    "#ypwords = [D[j] for j in yHat[i].argsort()[::-1] [ 0:(yHat[i]>0.2).sum() ] ]\n",
    "# Truth\n",
    "ytwords = [D[idx] for idx in np.nonzero(yTe[i])[0]]\n",
    "#ytwords = [D[j] for j in np.where(yTe[i] > 0.5)[0] ]\n",
    "plt.imshow(im)\n",
    "\n",
    "print 'Predicted: '+ ', '.join(ypwords)\n",
    "print 'Truth:     '+ ', '.join(ytwords)\n",
    "\n",
    "plt.figure()"
   ]
  },
  {
   "cell_type": "code",
   "execution_count": null,
   "metadata": {
    "collapsed": true
   },
   "outputs": [],
   "source": []
  }
 ],
 "metadata": {
  "kernelspec": {
   "display_name": "Python 2",
   "language": "python",
   "name": "python2"
  },
  "language_info": {
   "codemirror_mode": {
    "name": "ipython",
    "version": 2
   },
   "file_extension": ".py",
   "mimetype": "text/x-python",
   "name": "python",
   "nbconvert_exporter": "python",
   "pygments_lexer": "ipython2",
   "version": "2.7.12"
  }
 },
 "nbformat": 4,
 "nbformat_minor": 0
}
